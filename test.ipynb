{
 "cells": [
  {
   "cell_type": "code",
   "execution_count": null,
   "metadata": {
    "vscode": {
     "languageId": "plaintext"
    }
   },
   "outputs": [],
   "source": [
    "from labequipment.instruments.lasers.TLB6700 import TLB6700\n",
    "\n",
    "laser = TLB6700()\n",
    "laser.on()\n",
    "laser.close()"
   ]
  },
  {
   "cell_type": "code",
   "execution_count": null,
   "metadata": {
    "vscode": {
     "languageId": "plaintext"
    }
   },
   "outputs": [],
   "source": [
    "from labequipment.instruments.osa.AQ3675 import AQ3675\n",
    "import numpy as np\n",
    "OSA_address = 'GPIB0::4::INSTR'\n",
    "with AQ3675(OSA_address) as osa:\n",
    "        data = osa.fetchData()\n",
    "import matplotlib.pyplot as plt\n",
    "plt.plot(np.array(data.Wavelength), np.array(data.Intensity))\n",
    "\n",
    "folder_path = './save/1009_24'\n",
    "id = 30\n",
    "\n",
    "data.to_csv(folder_path+f'/{id}-TM.csv', mode='a', header=False)\n"
   ]
  },
  {
   "cell_type": "code",
   "execution_count": null,
   "metadata": {
    "vscode": {
     "languageId": "plaintext"
    }
   },
   "outputs": [],
   "source": [
    "OSA_address = 'GPIB0::1::INSTR'\n",
    "with AQ3675(OSA_address) as osa:\n",
    "        data = osa.fetchData()\n",
    "import matplotlib.pyplot as plt\n",
    "plt.plot(np.array(data.Wavelength), np.array(data.Intensity))"
   ]
  },
  {
   "cell_type": "code",
   "execution_count": null,
   "metadata": {
    "vscode": {
     "languageId": "plaintext"
    }
   },
   "outputs": [],
   "source": [
    "import pandas as pd\n",
    "folder_path = './save/1009_24'\n",
    "id = 30\n",
    "\n",
    "data.to_csv(folder_path+f'/{id}-special.csv', mode='a', header=False)"
   ]
  },
  {
   "cell_type": "code",
   "execution_count": null,
   "metadata": {
    "vscode": {
     "languageId": "plaintext"
    }
   },
   "outputs": [],
   "source": [
    "from labequipment.instruments.esa.E4440A import E4440A\n",
    "import pandas as pd\n",
    "ESA_address = 'GPIB0::18::INSTR'\n",
    "with E4440A(ESA_address) as esa:\n",
    "        data = esa.fetchData()\n",
    "import matplotlib.pyplot as plt\n",
    "plt.plot(np.array(data.Frequency)*1e-6, np.array(data.Intensity))\n",
    "plt.xlabel(\"MHz\")\n",
    "\n",
    "folder_path = './save/1009_24'\n",
    "\n",
    "esa_dict = {\"frequency\": np.array(data.Frequency), \"intensity\": np.array(data.Intensity)}\n",
    "Esa_df = pd.DataFrame(data=esa_dict)\n",
    "Esa_df.to_csv(folder_path+f'/{id}_TM pump_state 5.csv', mode='a', header=False)"
   ]
  }
 ],
 "metadata": {
  "language_info": {
   "name": "python"
  }
 },
 "nbformat": 4,
 "nbformat_minor": 2
}
